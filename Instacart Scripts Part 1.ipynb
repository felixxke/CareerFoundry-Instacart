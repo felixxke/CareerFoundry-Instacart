{
 "cells": [
  {
   "cell_type": "markdown",
   "id": "19b17362",
   "metadata": {},
   "source": [
    "# Contents: Data Preparation"
   ]
  },
  {
   "cell_type": "markdown",
   "id": "b6907d7a",
   "metadata": {},
   "source": [
    "1. Environment Setup\n",
    "2. Data Wrangling: Orders\n",
    "3. Data Wrangling: Departments\n",
    "4. Data Consistency: Products\n",
    "5. Data Consistency: Orders\n",
    "6. Data Merge: Orders, Orders_Prior into Orders_Products_Combined\n",
    "7. Data Merge: Order_Products_Combined, Products into Orders_Products_Merged\n",
    "8. Data Derivations\n",
    "9. Data Aggregations\n",
    "10. Data Wrangling: Customers\n",
    "11. Data Merge: Orders_Products_Merged, Customers into Orders_Products_All\n",
    "12. Orders_Products_All Basic Statistics"
   ]
  },
  {
   "cell_type": "markdown",
   "id": "ab6e49b4",
   "metadata": {},
   "source": [
    "In this script we are using all of the data sets that Instacart has provided for us and cleaning, merging and preparing them for our analysis."
   ]
  },
  {
   "cell_type": "markdown",
   "id": "9f719ebd",
   "metadata": {},
   "source": [
    "### 1. Environment Setup"
   ]
  },
  {
   "cell_type": "markdown",
   "id": "50f623c6",
   "metadata": {},
   "source": [
    "This is where we set up our Python environment, importing the libraries that we used as well as the data sets that we are cleaning and drawing our analyses from."
   ]
  },
  {
   "cell_type": "code",
   "execution_count": 1,
   "id": "2026e3b6",
   "metadata": {},
   "outputs": [],
   "source": [
    "# Import libraries\n",
    "import pandas as pd\n",
    "import numpy as np\n",
    "import os"
   ]
  },
  {
   "cell_type": "code",
   "execution_count": 2,
   "id": "c58ca77d",
   "metadata": {},
   "outputs": [],
   "source": [
    "# Import data sets\n",
    "path = r'C:\\Users\\felix\\Documents\\PSU\\class\\Instacart Basket Analysis'\n",
    "\n",
    "df_ords = pd.read_csv(os.path.join(path, '02 Data', 'Original Data', 'orders.csv'), index_col = False)\n",
    "df_dep = pd.read_csv(os.path.join(path, '02 Data', 'Original Data', 'departments.csv'), index_col = False)\n",
    "df_prods = pd.read_csv(os.path.join(path, '02 Data', 'Original Data', 'products.csv'), index_col = False)\n",
    "df_ords_prior = pd.read_csv(os.path.join(path, '02 Data', 'Original Data', 'order_products__prior.csv'), index_col = False)\n",
    "customer = pd.read_csv(os.path.join(path, '02 Data', 'Original Data', 'customers.csv'))"
   ]
  },
  {
   "cell_type": "markdown",
   "id": "abb7dcc2",
   "metadata": {},
   "source": [
    "Below here is where we cleaned our data sets in preparation for our analysis and the creation of all the visualizations that we made, as well as where we created any additional variables that we needed for our work."
   ]
  },
  {
   "cell_type": "markdown",
   "id": "2eb9bd1d",
   "metadata": {},
   "source": [
    "### 2. Data Wrangling: Orders"
   ]
  },
  {
   "cell_type": "code",
   "execution_count": 3,
   "id": "0dc37ee3",
   "metadata": {},
   "outputs": [],
   "source": [
    "# Dropping irrelevant column for our project\n",
    "\n",
    "df_ords = df_ords.drop(columns = ['eval_set'])"
   ]
  },
  {
   "cell_type": "code",
   "execution_count": 4,
   "id": "fca946b3",
   "metadata": {},
   "outputs": [],
   "source": [
    "# Renaming column for clarity\n",
    "\n",
    "df_ords.rename(columns = {'order_dow' : 'order_day_of_week'}, inplace = True)"
   ]
  },
  {
   "cell_type": "code",
   "execution_count": 5,
   "id": "33907396",
   "metadata": {},
   "outputs": [],
   "source": [
    "df_ords.rename(columns = {'order_number' : 'user_order_number'}, inplace = True)"
   ]
  },
  {
   "cell_type": "code",
   "execution_count": 6,
   "id": "caf9e6c8",
   "metadata": {},
   "outputs": [],
   "source": [
    "# Reformatting column type\n",
    "\n",
    "df_ords['order_id'] = df_ords['order_id'].astype('str')"
   ]
  },
  {
   "cell_type": "code",
   "execution_count": 7,
   "id": "25d06a6f",
   "metadata": {},
   "outputs": [],
   "source": [
    "df_ords['user_id'] = df_ords['user_id'].astype('str')"
   ]
  },
  {
   "cell_type": "code",
   "execution_count": 8,
   "id": "9509dc84",
   "metadata": {},
   "outputs": [],
   "source": [
    "# Saving our wrangled orders data frame \n",
    "\n",
    "#df_ords.to_csv(os.path.join(path, '02 Data', 'Prepared Data', 'orders_wrangled.csv'))"
   ]
  },
  {
   "cell_type": "markdown",
   "id": "2f2d1154",
   "metadata": {},
   "source": [
    "### 3. Data Wrangling: Departments"
   ]
  },
  {
   "cell_type": "code",
   "execution_count": 9,
   "id": "3b154d60",
   "metadata": {},
   "outputs": [],
   "source": [
    "# Transposing departments from horizontal to vertical\n",
    "\n",
    "df_dep_t = df_dep.T"
   ]
  },
  {
   "cell_type": "code",
   "execution_count": 10,
   "id": "f9204baa",
   "metadata": {},
   "outputs": [
    {
     "data": {
      "text/html": [
       "<div>\n",
       "<style scoped>\n",
       "    .dataframe tbody tr th:only-of-type {\n",
       "        vertical-align: middle;\n",
       "    }\n",
       "\n",
       "    .dataframe tbody tr th {\n",
       "        vertical-align: top;\n",
       "    }\n",
       "\n",
       "    .dataframe thead th {\n",
       "        text-align: right;\n",
       "    }\n",
       "</style>\n",
       "<table border=\"1\" class=\"dataframe\">\n",
       "  <thead>\n",
       "    <tr style=\"text-align: right;\">\n",
       "      <th></th>\n",
       "      <th>index</th>\n",
       "      <th>0</th>\n",
       "    </tr>\n",
       "  </thead>\n",
       "  <tbody>\n",
       "    <tr>\n",
       "      <th>0</th>\n",
       "      <td>department_id</td>\n",
       "      <td>department</td>\n",
       "    </tr>\n",
       "    <tr>\n",
       "      <th>1</th>\n",
       "      <td>1</td>\n",
       "      <td>frozen</td>\n",
       "    </tr>\n",
       "    <tr>\n",
       "      <th>2</th>\n",
       "      <td>2</td>\n",
       "      <td>other</td>\n",
       "    </tr>\n",
       "    <tr>\n",
       "      <th>3</th>\n",
       "      <td>3</td>\n",
       "      <td>bakery</td>\n",
       "    </tr>\n",
       "    <tr>\n",
       "      <th>4</th>\n",
       "      <td>4</td>\n",
       "      <td>produce</td>\n",
       "    </tr>\n",
       "    <tr>\n",
       "      <th>5</th>\n",
       "      <td>5</td>\n",
       "      <td>alcohol</td>\n",
       "    </tr>\n",
       "    <tr>\n",
       "      <th>6</th>\n",
       "      <td>6</td>\n",
       "      <td>international</td>\n",
       "    </tr>\n",
       "    <tr>\n",
       "      <th>7</th>\n",
       "      <td>7</td>\n",
       "      <td>beverages</td>\n",
       "    </tr>\n",
       "    <tr>\n",
       "      <th>8</th>\n",
       "      <td>8</td>\n",
       "      <td>pets</td>\n",
       "    </tr>\n",
       "    <tr>\n",
       "      <th>9</th>\n",
       "      <td>9</td>\n",
       "      <td>dry goods pasta</td>\n",
       "    </tr>\n",
       "    <tr>\n",
       "      <th>10</th>\n",
       "      <td>10</td>\n",
       "      <td>bulk</td>\n",
       "    </tr>\n",
       "    <tr>\n",
       "      <th>11</th>\n",
       "      <td>11</td>\n",
       "      <td>personal care</td>\n",
       "    </tr>\n",
       "    <tr>\n",
       "      <th>12</th>\n",
       "      <td>12</td>\n",
       "      <td>meat seafood</td>\n",
       "    </tr>\n",
       "    <tr>\n",
       "      <th>13</th>\n",
       "      <td>13</td>\n",
       "      <td>pantry</td>\n",
       "    </tr>\n",
       "    <tr>\n",
       "      <th>14</th>\n",
       "      <td>14</td>\n",
       "      <td>breakfast</td>\n",
       "    </tr>\n",
       "    <tr>\n",
       "      <th>15</th>\n",
       "      <td>15</td>\n",
       "      <td>canned goods</td>\n",
       "    </tr>\n",
       "    <tr>\n",
       "      <th>16</th>\n",
       "      <td>16</td>\n",
       "      <td>dairy eggs</td>\n",
       "    </tr>\n",
       "    <tr>\n",
       "      <th>17</th>\n",
       "      <td>17</td>\n",
       "      <td>household</td>\n",
       "    </tr>\n",
       "    <tr>\n",
       "      <th>18</th>\n",
       "      <td>18</td>\n",
       "      <td>babies</td>\n",
       "    </tr>\n",
       "    <tr>\n",
       "      <th>19</th>\n",
       "      <td>19</td>\n",
       "      <td>snacks</td>\n",
       "    </tr>\n",
       "    <tr>\n",
       "      <th>20</th>\n",
       "      <td>20</td>\n",
       "      <td>deli</td>\n",
       "    </tr>\n",
       "    <tr>\n",
       "      <th>21</th>\n",
       "      <td>21</td>\n",
       "      <td>missing</td>\n",
       "    </tr>\n",
       "  </tbody>\n",
       "</table>\n",
       "</div>"
      ],
      "text/plain": [
       "            index                0\n",
       "0   department_id       department\n",
       "1               1           frozen\n",
       "2               2            other\n",
       "3               3           bakery\n",
       "4               4          produce\n",
       "5               5          alcohol\n",
       "6               6    international\n",
       "7               7        beverages\n",
       "8               8             pets\n",
       "9               9  dry goods pasta\n",
       "10             10             bulk\n",
       "11             11    personal care\n",
       "12             12     meat seafood\n",
       "13             13           pantry\n",
       "14             14        breakfast\n",
       "15             15     canned goods\n",
       "16             16       dairy eggs\n",
       "17             17        household\n",
       "18             18           babies\n",
       "19             19           snacks\n",
       "20             20             deli\n",
       "21             21          missing"
      ]
     },
     "execution_count": 10,
     "metadata": {},
     "output_type": "execute_result"
    }
   ],
   "source": [
    "# Resetting table index\n",
    "\n",
    "df_dep_t.reset_index()"
   ]
  },
  {
   "cell_type": "code",
   "execution_count": 11,
   "id": "04812cff",
   "metadata": {},
   "outputs": [],
   "source": [
    "# Locating the first row of df_dep_t to use as the header\n",
    "\n",
    "new_header = df_dep_t.iloc[0]"
   ]
  },
  {
   "cell_type": "code",
   "execution_count": 12,
   "id": "3ffa7b0b",
   "metadata": {},
   "outputs": [],
   "source": [
    "# creates new data frame that includes everything from df_dep_t except the first row\n",
    "\n",
    "df_dep_t_new = df_dep_t[1:]"
   ]
  },
  {
   "cell_type": "code",
   "execution_count": 13,
   "id": "007e64ce",
   "metadata": {},
   "outputs": [],
   "source": [
    "# sets the header row as the df header\n",
    "\n",
    "df_dep_t_new.columns = new_header"
   ]
  },
  {
   "cell_type": "code",
   "execution_count": 14,
   "id": "a9b61620",
   "metadata": {},
   "outputs": [],
   "source": [
    "# Saving our wrangled departments data frame\n",
    "\n",
    "#df_dep_t_new.to_csv(os.path.join(path, '02 Data', 'Prepared Data', 'departments_wrangled.csv'))"
   ]
  },
  {
   "cell_type": "markdown",
   "id": "0206e90f",
   "metadata": {},
   "source": [
    "### 4. Data Consistency: Products"
   ]
  },
  {
   "cell_type": "code",
   "execution_count": 15,
   "id": "a0f7fb4d",
   "metadata": {},
   "outputs": [
    {
     "data": {
      "text/plain": [
       "product_id        0\n",
       "product_name     16\n",
       "aisle_id          0\n",
       "department_id     0\n",
       "prices            0\n",
       "dtype: int64"
      ]
     },
     "execution_count": 15,
     "metadata": {},
     "output_type": "execute_result"
    }
   ],
   "source": [
    "# checking for missing values\n",
    "\n",
    "df_prods.isnull().sum()"
   ]
  },
  {
   "cell_type": "code",
   "execution_count": 16,
   "id": "d64b3d2d",
   "metadata": {},
   "outputs": [],
   "source": [
    "# removes rows with missing values\n",
    "\n",
    "df_prods_clean = df_prods[df_prods['product_name'].isnull()==False]"
   ]
  },
  {
   "cell_type": "code",
   "execution_count": 17,
   "id": "263e066d",
   "metadata": {},
   "outputs": [],
   "source": [
    "# checking for duplicate rows in df_prods_clean\n",
    "\n",
    "df_dups = df_prods_clean[df_prods_clean.duplicated()]"
   ]
  },
  {
   "cell_type": "code",
   "execution_count": 18,
   "id": "77c5de55",
   "metadata": {},
   "outputs": [],
   "source": [
    "# removes rows with duplicate values\n",
    "\n",
    "df_prods_clean_no_dups = df_prods_clean.drop_duplicates()"
   ]
  },
  {
   "cell_type": "code",
   "execution_count": 19,
   "id": "3f977fb0",
   "metadata": {},
   "outputs": [],
   "source": [
    "# Saving our checked products data frame\n",
    "\n",
    "#df_prods_clean_no_dups.to_csv(os.path.join(path, '02 Data', 'Prepared Data', 'products_checked.csv'))"
   ]
  },
  {
   "cell_type": "markdown",
   "id": "a9d1894e",
   "metadata": {},
   "source": [
    "### 5. Data Consistency: Orders"
   ]
  },
  {
   "cell_type": "code",
   "execution_count": 20,
   "id": "a00adb20",
   "metadata": {},
   "outputs": [],
   "source": [
    "# checking for mixed data types in every column\n",
    "\n",
    "for col in df_ords.columns.tolist():\n",
    "    weird = (df_ords[[col]].applymap(type) != df_ords[[col]].iloc[0].apply(type)).any(axis = 1)\n",
    "    if len (df_ords[weird]) > 0:\n",
    "        print(col)"
   ]
  },
  {
   "cell_type": "code",
   "execution_count": 21,
   "id": "2f11622e",
   "metadata": {},
   "outputs": [
    {
     "data": {
      "text/plain": [
       "order_id                       0\n",
       "user_id                        0\n",
       "user_order_number              0\n",
       "order_day_of_week              0\n",
       "order_hour_of_day              0\n",
       "days_since_prior_order    206209\n",
       "dtype: int64"
      ]
     },
     "execution_count": 21,
     "metadata": {},
     "output_type": "execute_result"
    }
   ],
   "source": [
    "# checking for missing values\n",
    "\n",
    "df_ords.isnull().sum()"
   ]
  },
  {
   "cell_type": "code",
   "execution_count": 22,
   "id": "314f6fa4",
   "metadata": {},
   "outputs": [],
   "source": [
    "# imputing the missing values\n",
    "\n",
    "df_ords['days_since_prior_order'].fillna(1.111484e+01, inplace=True)"
   ]
  },
  {
   "cell_type": "markdown",
   "id": "f4dee534",
   "metadata": {},
   "source": [
    "In this step we imputed the calculated mean value of days_since_prior_order into all the missing values. We did this because there were too many rows with missing values that I felt if we removed them it might have an impact on our final results. Since there weren't many meaningful outliers in this column, I thought that imputing the missing values would be acceptable in this case."
   ]
  },
  {
   "cell_type": "code",
   "execution_count": 23,
   "id": "05491f45",
   "metadata": {},
   "outputs": [
    {
     "data": {
      "text/html": [
       "<div>\n",
       "<style scoped>\n",
       "    .dataframe tbody tr th:only-of-type {\n",
       "        vertical-align: middle;\n",
       "    }\n",
       "\n",
       "    .dataframe tbody tr th {\n",
       "        vertical-align: top;\n",
       "    }\n",
       "\n",
       "    .dataframe thead th {\n",
       "        text-align: right;\n",
       "    }\n",
       "</style>\n",
       "<table border=\"1\" class=\"dataframe\">\n",
       "  <thead>\n",
       "    <tr style=\"text-align: right;\">\n",
       "      <th></th>\n",
       "      <th>order_id</th>\n",
       "      <th>user_id</th>\n",
       "      <th>user_order_number</th>\n",
       "      <th>order_day_of_week</th>\n",
       "      <th>order_hour_of_day</th>\n",
       "      <th>days_since_prior_order</th>\n",
       "    </tr>\n",
       "  </thead>\n",
       "  <tbody>\n",
       "  </tbody>\n",
       "</table>\n",
       "</div>"
      ],
      "text/plain": [
       "Empty DataFrame\n",
       "Columns: [order_id, user_id, user_order_number, order_day_of_week, order_hour_of_day, days_since_prior_order]\n",
       "Index: []"
      ]
     },
     "execution_count": 23,
     "metadata": {},
     "output_type": "execute_result"
    }
   ],
   "source": [
    "# checking for rows with duplicate values\n",
    "\n",
    "df_ords[df_ords.duplicated()]"
   ]
  },
  {
   "cell_type": "code",
   "execution_count": 24,
   "id": "204baa30",
   "metadata": {},
   "outputs": [],
   "source": [
    "# Saving our checked orders data frame\n",
    "\n",
    "#df_ords.to_csv(os.path.join(path, '02 Data', 'Prepared Data', 'orders_checked.csv'))"
   ]
  },
  {
   "cell_type": "markdown",
   "id": "e0b23a5c",
   "metadata": {},
   "source": [
    "### 6. Data Merge: Orders, Orders_Prior into Orders_Products_Combined"
   ]
  },
  {
   "cell_type": "code",
   "execution_count": 25,
   "id": "df0644f4",
   "metadata": {},
   "outputs": [],
   "source": [
    "# changing column type for merge\n",
    "\n",
    "df_ords_prior['order_id'] = df_ords_prior['order_id'].astype('str')"
   ]
  },
  {
   "cell_type": "code",
   "execution_count": 26,
   "id": "1b43db12",
   "metadata": {},
   "outputs": [],
   "source": [
    "# default inner join\n",
    "\n",
    "df_merged_large = df_ords.merge(df_ords_prior, on = 'order_id')"
   ]
  },
  {
   "cell_type": "code",
   "execution_count": 27,
   "id": "2aeeb3cc",
   "metadata": {},
   "outputs": [],
   "source": [
    "# Saving our merged orders data frame\n",
    "\n",
    "#df_merged_large.to_pickle(os.path.join(path, '02 Data', 'Prepared Data', 'orders_products_combined.pkl'))"
   ]
  },
  {
   "cell_type": "markdown",
   "id": "13de349b",
   "metadata": {},
   "source": [
    "### 7. Data Merge: Order_Products_Combined, Products into Orders_Products_Merged"
   ]
  },
  {
   "cell_type": "code",
   "execution_count": 28,
   "id": "db20fdfc",
   "metadata": {},
   "outputs": [],
   "source": [
    "# merging with products\n",
    "\n",
    "df_merge = df_merged_large.merge(df_prods_clean_no_dups, on = 'product_id')"
   ]
  },
  {
   "cell_type": "code",
   "execution_count": 29,
   "id": "5689a088",
   "metadata": {},
   "outputs": [],
   "source": [
    "# Saving our merged orders and products data frame\n",
    "\n",
    "#df_merge.to_pickle(os.path.join(path, '02 Data', 'Prepared Data', 'orders_products_merged.pkl'))"
   ]
  },
  {
   "cell_type": "markdown",
   "id": "b8726db7",
   "metadata": {},
   "source": [
    "### 8. Data Derivations"
   ]
  },
  {
   "cell_type": "code",
   "execution_count": 30,
   "id": "5814337f",
   "metadata": {},
   "outputs": [],
   "source": [
    "# creating new variable price_range_loc based on the range of prices\n",
    "\n",
    "df_merge.loc[df_merge['prices'] > 15, 'price_range_loc'] = 'High-range product'"
   ]
  },
  {
   "cell_type": "code",
   "execution_count": 31,
   "id": "b5bae2cb",
   "metadata": {},
   "outputs": [],
   "source": [
    "df_merge.loc[(df_merge['prices'] <= 15) & (df_merge['prices'] > 5), 'price_range_loc'] = 'Mid-range product'"
   ]
  },
  {
   "cell_type": "code",
   "execution_count": 32,
   "id": "0f0c014b",
   "metadata": {},
   "outputs": [],
   "source": [
    "df_merge.loc[df_merge['prices'] <= 5, 'price_range_loc'] = 'Low-range product'"
   ]
  },
  {
   "cell_type": "code",
   "execution_count": 33,
   "id": "1c624d58",
   "metadata": {},
   "outputs": [],
   "source": [
    "# creating new variable busiest_day using for loop of order_day_of_week\n",
    "\n",
    "result = []\n",
    "\n",
    "for value in df_merge['order_day_of_week']:\n",
    "    if value == 0:\n",
    "        result.append('Busiest day')\n",
    "    elif value == 4:\n",
    "        result.append('Least busy')\n",
    "    else:\n",
    "        result.append('Regularly busy')"
   ]
  },
  {
   "cell_type": "code",
   "execution_count": 34,
   "id": "fe5f1d6b",
   "metadata": {},
   "outputs": [],
   "source": [
    "df_merge['busiest_day'] = result"
   ]
  },
  {
   "cell_type": "code",
   "execution_count": 35,
   "id": "0df8264e",
   "metadata": {},
   "outputs": [],
   "source": [
    "# creating new variable busiest_days using for loop of order_day_of week\n",
    "# instead of a singular busiest day, this uses the 2 busiest and 2 least busy days\n",
    "\n",
    "results2 = []\n",
    "\n",
    "for value in df_merge['order_day_of_week']:\n",
    "    if (value == 0) or (value == 1):\n",
    "        results2.append('Busier days')\n",
    "    elif (value == 4) or (value == 3):\n",
    "        results2.append('Less busy days')\n",
    "    else:\n",
    "        results2.append('Regularly busy')"
   ]
  },
  {
   "cell_type": "code",
   "execution_count": 36,
   "id": "caead1d0",
   "metadata": {},
   "outputs": [],
   "source": [
    "df_merge['busiest_days'] = results2"
   ]
  },
  {
   "cell_type": "code",
   "execution_count": 37,
   "id": "b2a141da",
   "metadata": {},
   "outputs": [],
   "source": [
    "# creating new variable busiest_period_of_day using for loop of order_hour_of_day\n",
    "\n",
    "results3 = []\n",
    "\n",
    "for value in df_merge['order_hour_of_day']:\n",
    "    if value in [10, 11, 14, 15, 13, 12, 16, 9]:\n",
    "        results3.append('Most orders')\n",
    "    elif value in [3, 4, 2, 5, 1, 0, 6, 23]:\n",
    "        results3.append('Fewest orders')\n",
    "    else:\n",
    "        results3.append('Average orders')"
   ]
  },
  {
   "cell_type": "code",
   "execution_count": 38,
   "id": "9a142d19",
   "metadata": {},
   "outputs": [],
   "source": [
    "df_merge['busiest_period_of_day'] = results3"
   ]
  },
  {
   "cell_type": "code",
   "execution_count": 39,
   "id": "9c80aeae",
   "metadata": {},
   "outputs": [],
   "source": [
    "# Saving our data frame with new variables\n",
    "\n",
    "#df_merge.to_pickle(os.path.join(path, '02 Data', 'Prepared Data', 'orders_products_merged2.pkl'))"
   ]
  },
  {
   "cell_type": "markdown",
   "id": "8e27023c",
   "metadata": {},
   "source": [
    "### 9. Data Aggregations"
   ]
  },
  {
   "cell_type": "code",
   "execution_count": 40,
   "id": "de0cfcda",
   "metadata": {},
   "outputs": [],
   "source": [
    "# creating column max_order by an aggregation using transform()\n",
    "\n",
    "df_merge['max_order'] = df_merge.groupby(['user_id'])['user_order_number'].transform(np.max)"
   ]
  },
  {
   "cell_type": "code",
   "execution_count": 41,
   "id": "537eca3f",
   "metadata": {},
   "outputs": [],
   "source": [
    "# creating new variable loyalty_flag using loc() with max_order\n",
    "\n",
    "df_merge.loc[df_merge['max_order'] > 40, 'loyalty_flag'] = 'Loyal customer'"
   ]
  },
  {
   "cell_type": "code",
   "execution_count": 42,
   "id": "5e2a36fd",
   "metadata": {},
   "outputs": [],
   "source": [
    "df_merge.loc[(df_merge['max_order'] <= 40) & (df_merge['max_order'] > 10), 'loyalty_flag'] = 'Regular customer'"
   ]
  },
  {
   "cell_type": "code",
   "execution_count": 43,
   "id": "97efb9ac",
   "metadata": {},
   "outputs": [],
   "source": [
    "df_merge.loc[df_merge['max_order'] <= 10, 'loyalty_flag'] = 'New customer'"
   ]
  },
  {
   "cell_type": "code",
   "execution_count": 44,
   "id": "45409570",
   "metadata": {},
   "outputs": [],
   "source": [
    "# creating column mean_prices_products by an aggregation using transform()\n",
    "\n",
    "df_merge['mean_prices_products'] = df_merge.groupby(['user_id'])['prices'].transform(np.mean)"
   ]
  },
  {
   "cell_type": "code",
   "execution_count": 45,
   "id": "9fb15261",
   "metadata": {},
   "outputs": [],
   "source": [
    "# creating new variable spender using loc() wtih mean_prices_products\n",
    "\n",
    "df_merge.loc[df_merge['mean_prices_products'] < 10, 'spender'] = 'Low spender'"
   ]
  },
  {
   "cell_type": "code",
   "execution_count": 46,
   "id": "ad905cdd",
   "metadata": {},
   "outputs": [],
   "source": [
    "df_merge.loc[df_merge['mean_prices_products'] >= 10, 'spender'] = 'High spender'"
   ]
  },
  {
   "cell_type": "code",
   "execution_count": 47,
   "id": "29035de4",
   "metadata": {},
   "outputs": [],
   "source": [
    "# creating coluimn median_days_last_order by an aggregation using transform()\n",
    "\n",
    "df_merge['median_days_last_order'] = df_merge.groupby(['user_id'])['days_since_prior_order'].transform(np.median)"
   ]
  },
  {
   "cell_type": "code",
   "execution_count": 48,
   "id": "7b3506c1",
   "metadata": {},
   "outputs": [],
   "source": [
    "# creating new variable freq_customer using loc() with median_days_last_order\n",
    "\n",
    "df_merge.loc[df_merge['median_days_last_order'] > 20, 'freq_customer'] = 'Non-frequent customer'"
   ]
  },
  {
   "cell_type": "code",
   "execution_count": 49,
   "id": "81220a76",
   "metadata": {},
   "outputs": [],
   "source": [
    "df_merge.loc[(df_merge['median_days_last_order'] <= 20) & (df_merge['median_days_last_order'] > 10), 'freq_customer'] = 'Regular customer'"
   ]
  },
  {
   "cell_type": "code",
   "execution_count": 50,
   "id": "9d16402a",
   "metadata": {},
   "outputs": [],
   "source": [
    "df_merge.loc[df_merge['median_days_last_order'] <= 10, 'freq_customer'] = 'Frequent customer'"
   ]
  },
  {
   "cell_type": "code",
   "execution_count": 51,
   "id": "f4cbb795",
   "metadata": {},
   "outputs": [],
   "source": [
    "# Saving our data frame with new variables\n",
    "\n",
    "#df_merge.to_pickle(os.path.join(path, '02 Data', 'Prepared Data', 'orders_products_merged3.pkl'))"
   ]
  },
  {
   "cell_type": "markdown",
   "id": "14da4e96",
   "metadata": {},
   "source": [
    "### 10. Data Wrangling: Customers"
   ]
  },
  {
   "cell_type": "code",
   "execution_count": 52,
   "id": "71de7d8d",
   "metadata": {},
   "outputs": [],
   "source": [
    "# renaming columns for clarity\n",
    "\n",
    "customer.rename(columns = {'Surnam': 'Last Name', 'STATE': 'State'}, inplace = True)"
   ]
  },
  {
   "cell_type": "code",
   "execution_count": 53,
   "id": "ed49263c",
   "metadata": {},
   "outputs": [],
   "source": [
    "# reformatting column type \n",
    "\n",
    "customer['user_id'] = customer['user_id'].astype('str')"
   ]
  },
  {
   "cell_type": "code",
   "execution_count": 54,
   "id": "713c9cb4",
   "metadata": {},
   "outputs": [
    {
     "name": "stdout",
     "output_type": "stream",
     "text": [
      "First Name\n"
     ]
    }
   ],
   "source": [
    "# checking for mixed data types\n",
    "\n",
    "for col in customer.columns.tolist():\n",
    "    weird = (customer[[col]].applymap(type) != customer[[col]].iloc[0].apply(type)).any(axis = 1)\n",
    "    if len(customer[weird]) > 0:\n",
    "        print(col)"
   ]
  },
  {
   "cell_type": "code",
   "execution_count": 55,
   "id": "887589ab",
   "metadata": {},
   "outputs": [],
   "source": [
    "# reformatting column type\n",
    "\n",
    "customer['First Name'] = customer['First Name'].astype('str')"
   ]
  },
  {
   "cell_type": "code",
   "execution_count": 56,
   "id": "032a74e3",
   "metadata": {},
   "outputs": [
    {
     "data": {
      "text/plain": [
       "user_id         0\n",
       "First Name      0\n",
       "Last Name       0\n",
       "Gender          0\n",
       "State           0\n",
       "Age             0\n",
       "date_joined     0\n",
       "n_dependants    0\n",
       "fam_status      0\n",
       "income          0\n",
       "dtype: int64"
      ]
     },
     "execution_count": 56,
     "metadata": {},
     "output_type": "execute_result"
    }
   ],
   "source": [
    "# checking for missing values\n",
    "\n",
    "customer.isnull().sum()"
   ]
  },
  {
   "cell_type": "code",
   "execution_count": 57,
   "id": "3766175b",
   "metadata": {},
   "outputs": [
    {
     "data": {
      "text/html": [
       "<div>\n",
       "<style scoped>\n",
       "    .dataframe tbody tr th:only-of-type {\n",
       "        vertical-align: middle;\n",
       "    }\n",
       "\n",
       "    .dataframe tbody tr th {\n",
       "        vertical-align: top;\n",
       "    }\n",
       "\n",
       "    .dataframe thead th {\n",
       "        text-align: right;\n",
       "    }\n",
       "</style>\n",
       "<table border=\"1\" class=\"dataframe\">\n",
       "  <thead>\n",
       "    <tr style=\"text-align: right;\">\n",
       "      <th></th>\n",
       "      <th>user_id</th>\n",
       "      <th>First Name</th>\n",
       "      <th>Last Name</th>\n",
       "      <th>Gender</th>\n",
       "      <th>State</th>\n",
       "      <th>Age</th>\n",
       "      <th>date_joined</th>\n",
       "      <th>n_dependants</th>\n",
       "      <th>fam_status</th>\n",
       "      <th>income</th>\n",
       "    </tr>\n",
       "  </thead>\n",
       "  <tbody>\n",
       "  </tbody>\n",
       "</table>\n",
       "</div>"
      ],
      "text/plain": [
       "Empty DataFrame\n",
       "Columns: [user_id, First Name, Last Name, Gender, State, Age, date_joined, n_dependants, fam_status, income]\n",
       "Index: []"
      ]
     },
     "execution_count": 57,
     "metadata": {},
     "output_type": "execute_result"
    }
   ],
   "source": [
    "# checking for duplicate rows\n",
    "\n",
    "customer[customer.duplicated()]"
   ]
  },
  {
   "cell_type": "markdown",
   "id": "dc26a2fd",
   "metadata": {},
   "source": [
    "### 11. Data Merge: Orders_Products_Merged, Customers into Orders_Products_All"
   ]
  },
  {
   "cell_type": "code",
   "execution_count": 58,
   "id": "158fd787",
   "metadata": {},
   "outputs": [],
   "source": [
    "# converting user_id in ords_prods_merge to str type before combining data frames\n",
    "\n",
    "df_merge['user_id'] = df_merge['user_id'].astype('str')"
   ]
  },
  {
   "cell_type": "code",
   "execution_count": 59,
   "id": "04b696a3",
   "metadata": {},
   "outputs": [],
   "source": [
    "# combining the data frames\n",
    "\n",
    "ords_prods_all = df_merge.merge(customer, on = 'user_id')"
   ]
  },
  {
   "cell_type": "code",
   "execution_count": 60,
   "id": "8874f522",
   "metadata": {},
   "outputs": [],
   "source": [
    "# Removing First Name and Last Name from file due to PII\n",
    "\n",
    "ords_prods_all_2 = ords_prods_all.drop(columns = ['First Name', 'Last Name'])"
   ]
  },
  {
   "cell_type": "code",
   "execution_count": 61,
   "id": "fb5931e9",
   "metadata": {},
   "outputs": [],
   "source": [
    "# Saving our merged data frame\n",
    " \n",
    "#ords_prods_all_2.to_pickle(os.path.join(path, '02 Data', 'Prepared Data', 'orders_products_all.pkl'))"
   ]
  },
  {
   "cell_type": "markdown",
   "id": "9fc2b7c0",
   "metadata": {},
   "source": [
    "### 12. Orders_Products_All Basic Statistics"
   ]
  },
  {
   "cell_type": "code",
   "execution_count": 62,
   "id": "dfd3ca74",
   "metadata": {},
   "outputs": [
    {
     "data": {
      "text/html": [
       "<div>\n",
       "<style scoped>\n",
       "    .dataframe tbody tr th:only-of-type {\n",
       "        vertical-align: middle;\n",
       "    }\n",
       "\n",
       "    .dataframe tbody tr th {\n",
       "        vertical-align: top;\n",
       "    }\n",
       "\n",
       "    .dataframe thead th {\n",
       "        text-align: right;\n",
       "    }\n",
       "</style>\n",
       "<table border=\"1\" class=\"dataframe\">\n",
       "  <thead>\n",
       "    <tr style=\"text-align: right;\">\n",
       "      <th></th>\n",
       "      <th>order_id</th>\n",
       "      <th>user_id</th>\n",
       "      <th>user_order_number</th>\n",
       "      <th>order_day_of_week</th>\n",
       "      <th>order_hour_of_day</th>\n",
       "      <th>days_since_prior_order</th>\n",
       "      <th>product_id</th>\n",
       "      <th>add_to_cart_order</th>\n",
       "      <th>reordered</th>\n",
       "      <th>product_name</th>\n",
       "      <th>...</th>\n",
       "      <th>spender</th>\n",
       "      <th>median_days_last_order</th>\n",
       "      <th>freq_customer</th>\n",
       "      <th>Gender</th>\n",
       "      <th>State</th>\n",
       "      <th>Age</th>\n",
       "      <th>date_joined</th>\n",
       "      <th>n_dependants</th>\n",
       "      <th>fam_status</th>\n",
       "      <th>income</th>\n",
       "    </tr>\n",
       "  </thead>\n",
       "  <tbody>\n",
       "    <tr>\n",
       "      <th>0</th>\n",
       "      <td>2539329</td>\n",
       "      <td>1</td>\n",
       "      <td>1</td>\n",
       "      <td>2</td>\n",
       "      <td>8</td>\n",
       "      <td>11.11484</td>\n",
       "      <td>196</td>\n",
       "      <td>1</td>\n",
       "      <td>0</td>\n",
       "      <td>Soda</td>\n",
       "      <td>...</td>\n",
       "      <td>Low spender</td>\n",
       "      <td>20.0</td>\n",
       "      <td>Regular customer</td>\n",
       "      <td>Female</td>\n",
       "      <td>Alabama</td>\n",
       "      <td>31</td>\n",
       "      <td>2/17/2019</td>\n",
       "      <td>3</td>\n",
       "      <td>married</td>\n",
       "      <td>40423</td>\n",
       "    </tr>\n",
       "    <tr>\n",
       "      <th>1</th>\n",
       "      <td>2398795</td>\n",
       "      <td>1</td>\n",
       "      <td>2</td>\n",
       "      <td>3</td>\n",
       "      <td>7</td>\n",
       "      <td>15.00000</td>\n",
       "      <td>196</td>\n",
       "      <td>1</td>\n",
       "      <td>1</td>\n",
       "      <td>Soda</td>\n",
       "      <td>...</td>\n",
       "      <td>Low spender</td>\n",
       "      <td>20.0</td>\n",
       "      <td>Regular customer</td>\n",
       "      <td>Female</td>\n",
       "      <td>Alabama</td>\n",
       "      <td>31</td>\n",
       "      <td>2/17/2019</td>\n",
       "      <td>3</td>\n",
       "      <td>married</td>\n",
       "      <td>40423</td>\n",
       "    </tr>\n",
       "    <tr>\n",
       "      <th>2</th>\n",
       "      <td>473747</td>\n",
       "      <td>1</td>\n",
       "      <td>3</td>\n",
       "      <td>3</td>\n",
       "      <td>12</td>\n",
       "      <td>21.00000</td>\n",
       "      <td>196</td>\n",
       "      <td>1</td>\n",
       "      <td>1</td>\n",
       "      <td>Soda</td>\n",
       "      <td>...</td>\n",
       "      <td>Low spender</td>\n",
       "      <td>20.0</td>\n",
       "      <td>Regular customer</td>\n",
       "      <td>Female</td>\n",
       "      <td>Alabama</td>\n",
       "      <td>31</td>\n",
       "      <td>2/17/2019</td>\n",
       "      <td>3</td>\n",
       "      <td>married</td>\n",
       "      <td>40423</td>\n",
       "    </tr>\n",
       "    <tr>\n",
       "      <th>3</th>\n",
       "      <td>2254736</td>\n",
       "      <td>1</td>\n",
       "      <td>4</td>\n",
       "      <td>4</td>\n",
       "      <td>7</td>\n",
       "      <td>29.00000</td>\n",
       "      <td>196</td>\n",
       "      <td>1</td>\n",
       "      <td>1</td>\n",
       "      <td>Soda</td>\n",
       "      <td>...</td>\n",
       "      <td>Low spender</td>\n",
       "      <td>20.0</td>\n",
       "      <td>Regular customer</td>\n",
       "      <td>Female</td>\n",
       "      <td>Alabama</td>\n",
       "      <td>31</td>\n",
       "      <td>2/17/2019</td>\n",
       "      <td>3</td>\n",
       "      <td>married</td>\n",
       "      <td>40423</td>\n",
       "    </tr>\n",
       "    <tr>\n",
       "      <th>4</th>\n",
       "      <td>431534</td>\n",
       "      <td>1</td>\n",
       "      <td>5</td>\n",
       "      <td>4</td>\n",
       "      <td>15</td>\n",
       "      <td>28.00000</td>\n",
       "      <td>196</td>\n",
       "      <td>1</td>\n",
       "      <td>1</td>\n",
       "      <td>Soda</td>\n",
       "      <td>...</td>\n",
       "      <td>Low spender</td>\n",
       "      <td>20.0</td>\n",
       "      <td>Regular customer</td>\n",
       "      <td>Female</td>\n",
       "      <td>Alabama</td>\n",
       "      <td>31</td>\n",
       "      <td>2/17/2019</td>\n",
       "      <td>3</td>\n",
       "      <td>married</td>\n",
       "      <td>40423</td>\n",
       "    </tr>\n",
       "  </tbody>\n",
       "</table>\n",
       "<p>5 rows × 30 columns</p>\n",
       "</div>"
      ],
      "text/plain": [
       "  order_id user_id  user_order_number  order_day_of_week  order_hour_of_day  \\\n",
       "0  2539329       1                  1                  2                  8   \n",
       "1  2398795       1                  2                  3                  7   \n",
       "2   473747       1                  3                  3                 12   \n",
       "3  2254736       1                  4                  4                  7   \n",
       "4   431534       1                  5                  4                 15   \n",
       "\n",
       "   days_since_prior_order  product_id  add_to_cart_order  reordered  \\\n",
       "0                11.11484         196                  1          0   \n",
       "1                15.00000         196                  1          1   \n",
       "2                21.00000         196                  1          1   \n",
       "3                29.00000         196                  1          1   \n",
       "4                28.00000         196                  1          1   \n",
       "\n",
       "  product_name  ...      spender  median_days_last_order     freq_customer  \\\n",
       "0         Soda  ...  Low spender                    20.0  Regular customer   \n",
       "1         Soda  ...  Low spender                    20.0  Regular customer   \n",
       "2         Soda  ...  Low spender                    20.0  Regular customer   \n",
       "3         Soda  ...  Low spender                    20.0  Regular customer   \n",
       "4         Soda  ...  Low spender                    20.0  Regular customer   \n",
       "\n",
       "   Gender    State Age date_joined  n_dependants fam_status  income  \n",
       "0  Female  Alabama  31   2/17/2019             3    married   40423  \n",
       "1  Female  Alabama  31   2/17/2019             3    married   40423  \n",
       "2  Female  Alabama  31   2/17/2019             3    married   40423  \n",
       "3  Female  Alabama  31   2/17/2019             3    married   40423  \n",
       "4  Female  Alabama  31   2/17/2019             3    married   40423  \n",
       "\n",
       "[5 rows x 30 columns]"
      ]
     },
     "execution_count": 62,
     "metadata": {},
     "output_type": "execute_result"
    }
   ],
   "source": [
    "ords_prods_all_2.head()"
   ]
  },
  {
   "cell_type": "code",
   "execution_count": 63,
   "id": "f3eda134",
   "metadata": {},
   "outputs": [
    {
     "data": {
      "text/plain": [
       "(32404859, 30)"
      ]
     },
     "execution_count": 63,
     "metadata": {},
     "output_type": "execute_result"
    }
   ],
   "source": [
    "ords_prods_all_2.shape"
   ]
  },
  {
   "cell_type": "code",
   "execution_count": 64,
   "id": "d8828879",
   "metadata": {},
   "outputs": [
    {
     "name": "stdout",
     "output_type": "stream",
     "text": [
      "<class 'pandas.core.frame.DataFrame'>\n",
      "Int64Index: 32404859 entries, 0 to 32404858\n",
      "Data columns (total 30 columns):\n",
      " #   Column                  Dtype  \n",
      "---  ------                  -----  \n",
      " 0   order_id                object \n",
      " 1   user_id                 object \n",
      " 2   user_order_number       int64  \n",
      " 3   order_day_of_week       int64  \n",
      " 4   order_hour_of_day       int64  \n",
      " 5   days_since_prior_order  float64\n",
      " 6   product_id              int64  \n",
      " 7   add_to_cart_order       int64  \n",
      " 8   reordered               int64  \n",
      " 9   product_name            object \n",
      " 10  aisle_id                int64  \n",
      " 11  department_id           int64  \n",
      " 12  prices                  float64\n",
      " 13  price_range_loc         object \n",
      " 14  busiest_day             object \n",
      " 15  busiest_days            object \n",
      " 16  busiest_period_of_day   object \n",
      " 17  max_order               int64  \n",
      " 18  loyalty_flag            object \n",
      " 19  mean_prices_products    float64\n",
      " 20  spender                 object \n",
      " 21  median_days_last_order  float64\n",
      " 22  freq_customer           object \n",
      " 23  Gender                  object \n",
      " 24  State                   object \n",
      " 25  Age                     int64  \n",
      " 26  date_joined             object \n",
      " 27  n_dependants            int64  \n",
      " 28  fam_status              object \n",
      " 29  income                  int64  \n",
      "dtypes: float64(4), int64(12), object(14)\n",
      "memory usage: 7.5+ GB\n"
     ]
    }
   ],
   "source": [
    "ords_prods_all_2.info()"
   ]
  },
  {
   "cell_type": "code",
   "execution_count": 65,
   "id": "d0aed788",
   "metadata": {},
   "outputs": [
    {
     "data": {
      "text/html": [
       "<div>\n",
       "<style scoped>\n",
       "    .dataframe tbody tr th:only-of-type {\n",
       "        vertical-align: middle;\n",
       "    }\n",
       "\n",
       "    .dataframe tbody tr th {\n",
       "        vertical-align: top;\n",
       "    }\n",
       "\n",
       "    .dataframe thead th {\n",
       "        text-align: right;\n",
       "    }\n",
       "</style>\n",
       "<table border=\"1\" class=\"dataframe\">\n",
       "  <thead>\n",
       "    <tr style=\"text-align: right;\">\n",
       "      <th></th>\n",
       "      <th>user_order_number</th>\n",
       "      <th>order_day_of_week</th>\n",
       "      <th>order_hour_of_day</th>\n",
       "      <th>days_since_prior_order</th>\n",
       "      <th>product_id</th>\n",
       "      <th>add_to_cart_order</th>\n",
       "      <th>reordered</th>\n",
       "      <th>aisle_id</th>\n",
       "      <th>department_id</th>\n",
       "      <th>prices</th>\n",
       "      <th>max_order</th>\n",
       "      <th>mean_prices_products</th>\n",
       "      <th>median_days_last_order</th>\n",
       "      <th>Age</th>\n",
       "      <th>n_dependants</th>\n",
       "      <th>income</th>\n",
       "    </tr>\n",
       "  </thead>\n",
       "  <tbody>\n",
       "    <tr>\n",
       "      <th>count</th>\n",
       "      <td>3.240486e+07</td>\n",
       "      <td>3.240486e+07</td>\n",
       "      <td>3.240486e+07</td>\n",
       "      <td>3.240486e+07</td>\n",
       "      <td>3.240486e+07</td>\n",
       "      <td>3.240486e+07</td>\n",
       "      <td>3.240486e+07</td>\n",
       "      <td>3.240486e+07</td>\n",
       "      <td>3.240486e+07</td>\n",
       "      <td>3.240486e+07</td>\n",
       "      <td>3.240486e+07</td>\n",
       "      <td>3.240486e+07</td>\n",
       "      <td>3.240486e+07</td>\n",
       "      <td>3.240486e+07</td>\n",
       "      <td>3.240486e+07</td>\n",
       "      <td>3.240486e+07</td>\n",
       "    </tr>\n",
       "    <tr>\n",
       "      <th>mean</th>\n",
       "      <td>1.714230e+01</td>\n",
       "      <td>2.738867e+00</td>\n",
       "      <td>1.342515e+01</td>\n",
       "      <td>1.110477e+01</td>\n",
       "      <td>2.559866e+04</td>\n",
       "      <td>8.352547e+00</td>\n",
       "      <td>5.895873e-01</td>\n",
       "      <td>7.119612e+01</td>\n",
       "      <td>9.919792e+00</td>\n",
       "      <td>1.198023e+01</td>\n",
       "      <td>3.305217e+01</td>\n",
       "      <td>1.198023e+01</td>\n",
       "      <td>1.002895e+01</td>\n",
       "      <td>4.946527e+01</td>\n",
       "      <td>1.501896e+00</td>\n",
       "      <td>9.943773e+04</td>\n",
       "    </tr>\n",
       "    <tr>\n",
       "      <th>std</th>\n",
       "      <td>1.753532e+01</td>\n",
       "      <td>2.090077e+00</td>\n",
       "      <td>4.246380e+00</td>\n",
       "      <td>8.493183e+00</td>\n",
       "      <td>1.408400e+04</td>\n",
       "      <td>7.127071e+00</td>\n",
       "      <td>4.919087e-01</td>\n",
       "      <td>3.821139e+01</td>\n",
       "      <td>6.281485e+00</td>\n",
       "      <td>4.956554e+02</td>\n",
       "      <td>2.515525e+01</td>\n",
       "      <td>8.324227e+01</td>\n",
       "      <td>6.324929e+00</td>\n",
       "      <td>1.848558e+01</td>\n",
       "      <td>1.118865e+00</td>\n",
       "      <td>4.305727e+04</td>\n",
       "    </tr>\n",
       "    <tr>\n",
       "      <th>min</th>\n",
       "      <td>1.000000e+00</td>\n",
       "      <td>0.000000e+00</td>\n",
       "      <td>0.000000e+00</td>\n",
       "      <td>0.000000e+00</td>\n",
       "      <td>1.000000e+00</td>\n",
       "      <td>1.000000e+00</td>\n",
       "      <td>0.000000e+00</td>\n",
       "      <td>1.000000e+00</td>\n",
       "      <td>1.000000e+00</td>\n",
       "      <td>1.000000e+00</td>\n",
       "      <td>1.000000e+00</td>\n",
       "      <td>1.000000e+00</td>\n",
       "      <td>0.000000e+00</td>\n",
       "      <td>1.800000e+01</td>\n",
       "      <td>0.000000e+00</td>\n",
       "      <td>2.590300e+04</td>\n",
       "    </tr>\n",
       "    <tr>\n",
       "      <th>25%</th>\n",
       "      <td>5.000000e+00</td>\n",
       "      <td>1.000000e+00</td>\n",
       "      <td>1.000000e+01</td>\n",
       "      <td>5.000000e+00</td>\n",
       "      <td>1.354400e+04</td>\n",
       "      <td>3.000000e+00</td>\n",
       "      <td>0.000000e+00</td>\n",
       "      <td>3.100000e+01</td>\n",
       "      <td>4.000000e+00</td>\n",
       "      <td>4.200000e+00</td>\n",
       "      <td>1.300000e+01</td>\n",
       "      <td>7.387298e+00</td>\n",
       "      <td>6.000000e+00</td>\n",
       "      <td>3.300000e+01</td>\n",
       "      <td>1.000000e+00</td>\n",
       "      <td>6.700400e+04</td>\n",
       "    </tr>\n",
       "    <tr>\n",
       "      <th>50%</th>\n",
       "      <td>1.100000e+01</td>\n",
       "      <td>3.000000e+00</td>\n",
       "      <td>1.300000e+01</td>\n",
       "      <td>8.000000e+00</td>\n",
       "      <td>2.530200e+04</td>\n",
       "      <td>6.000000e+00</td>\n",
       "      <td>1.000000e+00</td>\n",
       "      <td>8.300000e+01</td>\n",
       "      <td>9.000000e+00</td>\n",
       "      <td>7.400000e+00</td>\n",
       "      <td>2.600000e+01</td>\n",
       "      <td>7.824786e+00</td>\n",
       "      <td>8.000000e+00</td>\n",
       "      <td>4.900000e+01</td>\n",
       "      <td>2.000000e+00</td>\n",
       "      <td>9.661800e+04</td>\n",
       "    </tr>\n",
       "    <tr>\n",
       "      <th>75%</th>\n",
       "      <td>2.400000e+01</td>\n",
       "      <td>5.000000e+00</td>\n",
       "      <td>1.600000e+01</td>\n",
       "      <td>1.400000e+01</td>\n",
       "      <td>3.794700e+04</td>\n",
       "      <td>1.100000e+01</td>\n",
       "      <td>1.000000e+00</td>\n",
       "      <td>1.070000e+02</td>\n",
       "      <td>1.600000e+01</td>\n",
       "      <td>1.130000e+01</td>\n",
       "      <td>4.700000e+01</td>\n",
       "      <td>8.254023e+00</td>\n",
       "      <td>1.200000e+01</td>\n",
       "      <td>6.500000e+01</td>\n",
       "      <td>3.000000e+00</td>\n",
       "      <td>1.279120e+05</td>\n",
       "    </tr>\n",
       "    <tr>\n",
       "      <th>max</th>\n",
       "      <td>9.900000e+01</td>\n",
       "      <td>6.000000e+00</td>\n",
       "      <td>2.300000e+01</td>\n",
       "      <td>3.000000e+01</td>\n",
       "      <td>4.968800e+04</td>\n",
       "      <td>1.450000e+02</td>\n",
       "      <td>1.000000e+00</td>\n",
       "      <td>1.340000e+02</td>\n",
       "      <td>2.100000e+01</td>\n",
       "      <td>9.999900e+04</td>\n",
       "      <td>9.900000e+01</td>\n",
       "      <td>2.500542e+04</td>\n",
       "      <td>3.000000e+01</td>\n",
       "      <td>8.100000e+01</td>\n",
       "      <td>3.000000e+00</td>\n",
       "      <td>5.939010e+05</td>\n",
       "    </tr>\n",
       "  </tbody>\n",
       "</table>\n",
       "</div>"
      ],
      "text/plain": [
       "       user_order_number  order_day_of_week  order_hour_of_day  \\\n",
       "count       3.240486e+07       3.240486e+07       3.240486e+07   \n",
       "mean        1.714230e+01       2.738867e+00       1.342515e+01   \n",
       "std         1.753532e+01       2.090077e+00       4.246380e+00   \n",
       "min         1.000000e+00       0.000000e+00       0.000000e+00   \n",
       "25%         5.000000e+00       1.000000e+00       1.000000e+01   \n",
       "50%         1.100000e+01       3.000000e+00       1.300000e+01   \n",
       "75%         2.400000e+01       5.000000e+00       1.600000e+01   \n",
       "max         9.900000e+01       6.000000e+00       2.300000e+01   \n",
       "\n",
       "       days_since_prior_order    product_id  add_to_cart_order     reordered  \\\n",
       "count            3.240486e+07  3.240486e+07       3.240486e+07  3.240486e+07   \n",
       "mean             1.110477e+01  2.559866e+04       8.352547e+00  5.895873e-01   \n",
       "std              8.493183e+00  1.408400e+04       7.127071e+00  4.919087e-01   \n",
       "min              0.000000e+00  1.000000e+00       1.000000e+00  0.000000e+00   \n",
       "25%              5.000000e+00  1.354400e+04       3.000000e+00  0.000000e+00   \n",
       "50%              8.000000e+00  2.530200e+04       6.000000e+00  1.000000e+00   \n",
       "75%              1.400000e+01  3.794700e+04       1.100000e+01  1.000000e+00   \n",
       "max              3.000000e+01  4.968800e+04       1.450000e+02  1.000000e+00   \n",
       "\n",
       "           aisle_id  department_id        prices     max_order  \\\n",
       "count  3.240486e+07   3.240486e+07  3.240486e+07  3.240486e+07   \n",
       "mean   7.119612e+01   9.919792e+00  1.198023e+01  3.305217e+01   \n",
       "std    3.821139e+01   6.281485e+00  4.956554e+02  2.515525e+01   \n",
       "min    1.000000e+00   1.000000e+00  1.000000e+00  1.000000e+00   \n",
       "25%    3.100000e+01   4.000000e+00  4.200000e+00  1.300000e+01   \n",
       "50%    8.300000e+01   9.000000e+00  7.400000e+00  2.600000e+01   \n",
       "75%    1.070000e+02   1.600000e+01  1.130000e+01  4.700000e+01   \n",
       "max    1.340000e+02   2.100000e+01  9.999900e+04  9.900000e+01   \n",
       "\n",
       "       mean_prices_products  median_days_last_order           Age  \\\n",
       "count          3.240486e+07            3.240486e+07  3.240486e+07   \n",
       "mean           1.198023e+01            1.002895e+01  4.946527e+01   \n",
       "std            8.324227e+01            6.324929e+00  1.848558e+01   \n",
       "min            1.000000e+00            0.000000e+00  1.800000e+01   \n",
       "25%            7.387298e+00            6.000000e+00  3.300000e+01   \n",
       "50%            7.824786e+00            8.000000e+00  4.900000e+01   \n",
       "75%            8.254023e+00            1.200000e+01  6.500000e+01   \n",
       "max            2.500542e+04            3.000000e+01  8.100000e+01   \n",
       "\n",
       "       n_dependants        income  \n",
       "count  3.240486e+07  3.240486e+07  \n",
       "mean   1.501896e+00  9.943773e+04  \n",
       "std    1.118865e+00  4.305727e+04  \n",
       "min    0.000000e+00  2.590300e+04  \n",
       "25%    1.000000e+00  6.700400e+04  \n",
       "50%    2.000000e+00  9.661800e+04  \n",
       "75%    3.000000e+00  1.279120e+05  \n",
       "max    3.000000e+00  5.939010e+05  "
      ]
     },
     "execution_count": 65,
     "metadata": {},
     "output_type": "execute_result"
    }
   ],
   "source": [
    "ords_prods_all_2.describe()"
   ]
  }
 ],
 "metadata": {
  "kernelspec": {
   "display_name": "Python 3 (ipykernel)",
   "language": "python",
   "name": "python3"
  },
  "language_info": {
   "codemirror_mode": {
    "name": "ipython",
    "version": 3
   },
   "file_extension": ".py",
   "mimetype": "text/x-python",
   "name": "python",
   "nbconvert_exporter": "python",
   "pygments_lexer": "ipython3",
   "version": "3.9.13"
  }
 },
 "nbformat": 4,
 "nbformat_minor": 5
}
